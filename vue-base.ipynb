{
 "cells": [
  {
   "cell_type": "markdown",
   "id": "7f54749c",
   "metadata": {},
   "source": [
    "#### 创建vue环境"
   ]
  },
  {
   "cell_type": "markdown",
   "id": "f3a53c28",
   "metadata": {},
   "source": [
    "> 1. 创建专案资料夹： npm init vue@latest"
   ]
  },
  {
   "cell_type": "markdown",
   "id": "39e8ea7a",
   "metadata": {},
   "source": [
    "> 2. 进入第一步生成的文件 vue-project 目录，使用 npm install 创建所有需要的第三方套件,目录就会多一个 node_modules 文件"
   ]
  },
  {
   "cell_type": "markdown",
   "id": "299c4fc6",
   "metadata": {},
   "source": [
    "> 3. 最后使用 npm run dev 测试当前专案能否运行"
   ]
  },
  {
   "cell_type": "markdown",
   "id": "42e4b8e8",
   "metadata": {},
   "source": [
    "#### 响应式 ref\n"
   ]
  },
  {
   "cell_type": "markdown",
   "id": "06cb0e53",
   "metadata": {},
   "source": [
    "> ref 是对字符串，数字，布尔值等简单属性进行响应"
   ]
  },
  {
   "cell_type": "markdown",
   "id": "cfae3c84",
   "metadata": {},
   "source": [
    "``` javascript\n",
    "<script setup>\n",
    "import { ref } from 'vue'\n",
    "\n",
    "const count = ref(0)\n",
    "\n",
    "function inc() {\n",
    "  count.value ++    // 这里不能使用count++，因为const 定义的是一个对象，不可变值\n",
    "}\n",
    "\n",
    "  \n",
    "</script>\n",
    "\n",
    "<template>\n",
    "  <h1> {{count}} </h1>\n",
    "    \n",
    "  <h1 @click = \"inc\">点我 + 1</h1>\n",
    "    \n",
    "</template>\n"
   ]
  },
  {
   "cell_type": "markdown",
   "id": "bbc279bb",
   "metadata": {
    "vscode": {
     "languageId": "plaintext"
    }
   },
   "source": [
    "#### 响应式 reactive"
   ]
  },
  {
   "cell_type": "markdown",
   "id": "5948e26f",
   "metadata": {},
   "source": [
    "> reactive 是跟对象进行响应的"
   ]
  },
  {
   "cell_type": "markdown",
   "id": "84f4f791",
   "metadata": {},
   "source": [
    "``` javascript\n",
    "<script setup>\n",
    "import { ref, reactive } from 'vue'\n",
    "\n",
    "const data = reactive({  // 代理对象\n",
    "  count: 0\n",
    "})\n",
    "\n",
    "function inc() {\n",
    "  data.count ++\n",
    "}\n",
    "  \n",
    "</script>\n",
    "\n",
    "<template>\n",
    "  <h1> {{data.count}} </h1>\n",
    "    \n",
    "  <h1 @click = \"inc\">点我 + 1</h1>\n",
    "    \n",
    "</template>"
   ]
  },
  {
   "cell_type": "markdown",
   "id": "3a0228fc",
   "metadata": {},
   "source": [
    "### 模板语法与属性绑定"
   ]
  },
  {
   "cell_type": "markdown",
   "id": "2c9a1906",
   "metadata": {},
   "source": [
    "```javascript\n",
    "<script>\n",
    "export default {\n",
    "  data() {\n",
    "    return {\n",
    "      msg: \"Hello\",\n",
    "      raw: \"<a href='https://www.baidu.com/'>百度</a>\",\n",
    "      col: \"rd\",\n",
    "      boID:{\n",
    "        class:\"rd\"\n",
    "        \n",
    "        // 下面还可以写多个属性\n",
    "      }\n",
    "    };\n",
    "  },\n",
    "};\n",
    "</script>\n",
    "\n",
    "<template>\n",
    "  <div class=\"content\">\n",
    "    <h3>模板</h3>\n",
    "\n",
    "    <p :class=\"col\">{{ msg }}</p>\n",
    "\n",
    "    <p v-html=\"raw\"></p>\n",
    "\n",
    "    <button v-bind=\"boID\">BUtton</button>\n",
    "\n",
    "  </div>\n",
    "</template>\n",
    "\n",
    "\n",
    "<style>\n",
    ".rd {\n",
    "  color: red;\n",
    "}\n",
    "\n",
    ".content {\n",
    "  display: flex;\n",
    "  flex-direction: column;  /*垂直排列*/\n",
    "  align-items: center;    /*水平居中*/\n",
    "  justify-content: center;  /*垂直居中*/\n",
    "  \n",
    "  height: 100vh;\n",
    "  border: 1px solid #000;\n",
    "}\n",
    "\n",
    "</style> \n"
   ]
  }
 ],
 "metadata": {
  "kernelspec": {
   "display_name": "base",
   "language": "python",
   "name": "python3"
  },
  "language_info": {
   "name": "python",
   "version": "3.12.3"
  }
 },
 "nbformat": 4,
 "nbformat_minor": 5
}
